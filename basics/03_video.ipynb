{
 "cells": [
  {
   "cell_type": "code",
   "execution_count": 3,
   "id": "23295c5c-da9c-4a09-8b3a-10476c016c66",
   "metadata": {},
   "outputs": [],
   "source": [
    "inputs = r\"C:\\Users\\DAI.STUDENTSDC\\Desktop\\NLP_CV\\dataset\\CV\\images\"\n",
    "outputs = r\"C:\\Users\\DAI.STUDENTSDC\\Desktop\\NLP_CV\\CV\\outputs\""
   ]
  },
  {
   "cell_type": "code",
   "execution_count": 5,
   "id": "8256d894-c1d4-412c-983a-44a06db00a54",
   "metadata": {},
   "outputs": [],
   "source": [
    "import cv2\n",
    "import matplotlib.pyplot as plt\n",
    "import os"
   ]
  },
  {
   "cell_type": "code",
   "execution_count": 9,
   "id": "25897668-18fa-4f24-9cef-c220953e627a",
   "metadata": {},
   "outputs": [],
   "source": [
    "# load the video\n",
    "vid = cv2.VideoCapture(os.path.join(inputs, 'nature.mp4'))"
   ]
  },
  {
   "cell_type": "code",
   "execution_count": 11,
   "id": "07f09955-f1ad-406c-94d7-0443e93a92f6",
   "metadata": {},
   "outputs": [
    {
     "data": {
      "text/plain": [
       "True"
      ]
     },
     "execution_count": 11,
     "metadata": {},
     "output_type": "execute_result"
    }
   ],
   "source": [
    "ret, frame = vid.read()\n",
    "ret"
   ]
  },
  {
   "cell_type": "code",
   "execution_count": 17,
   "id": "a857fc36-c91c-4129-90fa-7979d3a0aeb3",
   "metadata": {},
   "outputs": [],
   "source": [
    "cv2.imshow('Frame', frame)\n",
    "cv2.waitKey(0)\n",
    "cv2.destroyAllWindows()"
   ]
  },
  {
   "cell_type": "code",
   "execution_count": 27,
   "id": "f23176d4-2df6-45ac-b189-90e3500b5a37",
   "metadata": {},
   "outputs": [
    {
     "data": {
      "text/plain": [
       "(720, 1270, 3)"
      ]
     },
     "execution_count": 27,
     "metadata": {},
     "output_type": "execute_result"
    }
   ],
   "source": [
    "frame.shape"
   ]
  },
  {
   "cell_type": "code",
   "execution_count": 29,
   "id": "882b1665-303f-40e8-b1a8-81494491ca4b",
   "metadata": {},
   "outputs": [
    {
     "data": {
      "text/plain": [
       "array([[[ 48,  49,  44],\n",
       "        [ 41,  42,  37],\n",
       "        [ 38,  39,  34],\n",
       "        ...,\n",
       "        [255, 255, 255],\n",
       "        [255, 255, 255],\n",
       "        [255, 255, 255]],\n",
       "\n",
       "       [[ 43,  44,  39],\n",
       "        [ 37,  38,  33],\n",
       "        [ 32,  33,  28],\n",
       "        ...,\n",
       "        [255, 255, 255],\n",
       "        [255, 255, 255],\n",
       "        [255, 255, 255]],\n",
       "\n",
       "       [[ 40,  41,  36],\n",
       "        [ 36,  37,  32],\n",
       "        [ 30,  31,  26],\n",
       "        ...,\n",
       "        [255, 255, 255],\n",
       "        [255, 255, 255],\n",
       "        [255, 255, 255]],\n",
       "\n",
       "       ...,\n",
       "\n",
       "       [[ 32,  31,  25],\n",
       "        [ 26,  25,  19],\n",
       "        [ 26,  25,  19],\n",
       "        ...,\n",
       "        [ 27,  23,  19],\n",
       "        [ 27,  23,  19],\n",
       "        [ 28,  24,  20]],\n",
       "\n",
       "       [[ 32,  31,  25],\n",
       "        [ 26,  25,  19],\n",
       "        [ 26,  25,  19],\n",
       "        ...,\n",
       "        [ 27,  23,  19],\n",
       "        [ 27,  23,  19],\n",
       "        [ 28,  24,  20]],\n",
       "\n",
       "       [[ 32,  31,  25],\n",
       "        [ 26,  25,  19],\n",
       "        [ 26,  25,  19],\n",
       "        ...,\n",
       "        [ 27,  23,  19],\n",
       "        [ 27,  23,  19],\n",
       "        [ 28,  24,  20]]], dtype=uint8)"
      ]
     },
     "execution_count": 29,
     "metadata": {},
     "output_type": "execute_result"
    }
   ],
   "source": [
    "frame"
   ]
  },
  {
   "cell_type": "code",
   "execution_count": 15,
   "id": "663a3c87-5a60-40fb-a587-aefcda4381d0",
   "metadata": {},
   "outputs": [],
   "source": [
    "width = int(vid.get(cv2.CAP_PROP_FRAME_WIDTH))\n",
    "height = int(vid.get(cv2.CAP_PROP_FRAME_HEIGHT))\n",
    "frames = int(vid.get(cv2.CAP_PROP_FRAME_COUNT))\n",
    "fps = int(vid.get(cv2.CAP_PROP_FPS))"
   ]
  },
  {
   "cell_type": "code",
   "execution_count": 17,
   "id": "f8617923-e789-4eaa-a111-52977de67d4e",
   "metadata": {},
   "outputs": [
    {
     "name": "stdout",
     "output_type": "stream",
     "text": [
      "Video Resolution: (720, 1270)\n",
      "Total Frames: 1409\n",
      "FPS: 26\n"
     ]
    }
   ],
   "source": [
    "print('Video Resolution:', (height, width))\n",
    "print('Total Frames:', frames)\n",
    "print('FPS:', fps)"
   ]
  },
  {
   "cell_type": "code",
   "execution_count": 47,
   "id": "d753a8d1-5b73-430d-8960-ca6b8c60f3e7",
   "metadata": {},
   "outputs": [
    {
     "data": {
      "text/plain": [
       "54.19230769230769"
      ]
     },
     "execution_count": 47,
     "metadata": {},
     "output_type": "execute_result"
    }
   ],
   "source": [
    "1409/26 # video lenght in sec unit"
   ]
  },
  {
   "cell_type": "code",
   "execution_count": 7,
   "id": "b9af7fe9-0cc3-402f-bef5-c0809a42f5c1",
   "metadata": {},
   "outputs": [],
   "source": [
    "vid = cv2.VideoCapture(os.path.join(inputs, 'nature.mp4'))\n",
    "while True:\n",
    "    ret, frame = vid.read()\n",
    "    if not ret:\n",
    "        break\n",
    "    cv2.imshow('Nature Video', frame)\n",
    "    if cv2.waitKey(7) == ord('q'):\n",
    "        break\n",
    "\n",
    "cv2.destroyAllWindows()"
   ]
  },
  {
   "cell_type": "markdown",
   "id": "426691de-49b2-4643-8ccc-3dfbddb3dced",
   "metadata": {},
   "source": [
    "### save the frames"
   ]
  },
  {
   "cell_type": "code",
   "execution_count": 68,
   "id": "8e765c52-9162-4e2e-8f07-9ed289d304db",
   "metadata": {},
   "outputs": [],
   "source": [
    "images = os.path.join(outputs, 'image_frames')"
   ]
  },
  {
   "cell_type": "code",
   "execution_count": 86,
   "id": "ac680592-2a4f-486a-90fd-4db07c00f952",
   "metadata": {
    "scrolled": true
   },
   "outputs": [],
   "source": [
    "vid = cv2.VideoCapture(os.path.join(inputs, 'nature.mp4'))\n",
    "count = 1\n",
    "while True:\n",
    "    ret, frame = vid.read()\n",
    "    if not ret:\n",
    "        break\n",
    "    img = f'{count}.jpg'\n",
    "    cv2.imwrite(os.path.join(images, img), frame)\n",
    "    count += 1\n",
    "\n",
    "cv2.destroyAllWindows()"
   ]
  },
  {
   "cell_type": "code",
   "execution_count": 19,
   "id": "860db331-82b1-449d-9072-7d6aa3dccf5f",
   "metadata": {},
   "outputs": [],
   "source": [
    "times = '00:00:35.00'\n",
    "hrs, mins, secs = times.split(':')"
   ]
  },
  {
   "cell_type": "code",
   "execution_count": 21,
   "id": "39bea4c1-27d1-4d33-acc3-a1bc04d4c432",
   "metadata": {},
   "outputs": [],
   "source": [
    "trigger_frame = int(hrs) * 3600 * fps + int(mins) * 60 * fps + float(secs) * fps"
   ]
  },
  {
   "cell_type": "code",
   "execution_count": 23,
   "id": "b22abb96-156c-4deb-b5f3-82296a8af0b9",
   "metadata": {},
   "outputs": [
    {
     "data": {
      "text/plain": [
       "910.0"
      ]
     },
     "execution_count": 23,
     "metadata": {},
     "output_type": "execute_result"
    }
   ],
   "source": [
    "trigger_frame"
   ]
  },
  {
   "cell_type": "code",
   "execution_count": 25,
   "id": "7c9ebce6-8978-4bf0-aaf6-34b87280855a",
   "metadata": {},
   "outputs": [
    {
     "name": "stdout",
     "output_type": "stream",
     "text": [
      "Help on built-in function set:\n",
      "\n",
      "set(...) method of cv2.VideoCapture instance\n",
      "    set(propId, value) -> retval\n",
      "    .   @brief Sets a property in the VideoCapture.\n",
      "    .\n",
      "    .       @param propId Property identifier from cv::VideoCaptureProperties (eg. cv::CAP_PROP_POS_MSEC, cv::CAP_PROP_POS_FRAMES, ...)\n",
      "    .       or one from @ref videoio_flags_others\n",
      "    .       @param value Value of the property.\n",
      "    .       @return `true` if the property is supported by backend used by the VideoCapture instance.\n",
      "    .       @note Even if it returns `true` this doesn't ensure that the property\n",
      "    .       value has been accepted by the capture device. See note in VideoCapture::get()\n",
      "\n"
     ]
    }
   ],
   "source": [
    "help(vid.set)"
   ]
  },
  {
   "cell_type": "code",
   "execution_count": 27,
   "id": "a52b78ed-17f8-45de-adc7-aefbce682e7e",
   "metadata": {},
   "outputs": [
    {
     "data": {
      "text/plain": [
       "True"
      ]
     },
     "execution_count": 27,
     "metadata": {},
     "output_type": "execute_result"
    }
   ],
   "source": [
    "vid.set(1, trigger_frame)"
   ]
  },
  {
   "cell_type": "code",
   "execution_count": 29,
   "id": "b9e62f4c-f132-414d-bea5-1ea01312710f",
   "metadata": {},
   "outputs": [],
   "source": [
    "ret, frame = vid.read()\n",
    "cv2.imshow('Frame', frame)\n",
    "cv2.waitKey(0)\n",
    "cv2.destroyAllWindows()"
   ]
  },
  {
   "cell_type": "markdown",
   "id": "59a09d4b-f99a-43c1-ab17-104a679c6634",
   "metadata": {},
   "source": [
    "#### Capture using camera"
   ]
  },
  {
   "cell_type": "code",
   "execution_count": 32,
   "id": "83f3f156-de20-4162-b2e2-562c4711aa6c",
   "metadata": {},
   "outputs": [
    {
     "data": {
      "text/plain": [
       "False"
      ]
     },
     "execution_count": 32,
     "metadata": {},
     "output_type": "execute_result"
    }
   ],
   "source": [
    "vid = cv2.VideoCapture(0)\n",
    "vid.isOpened()"
   ]
  },
  {
   "cell_type": "code",
   "execution_count": 38,
   "id": "d314f37d-47b4-4c68-8e88-27fb16035955",
   "metadata": {},
   "outputs": [
    {
     "ename": "KeyboardInterrupt",
     "evalue": "",
     "output_type": "error",
     "traceback": [
      "\u001b[1;31m---------------------------------------------------------------------------\u001b[0m",
      "\u001b[1;31mKeyboardInterrupt\u001b[0m                         Traceback (most recent call last)",
      "Cell \u001b[1;32mIn[38], line 5\u001b[0m\n\u001b[0;32m      3\u001b[0m \u001b[38;5;66;03m# read until the camera is stopped\u001b[39;00m\n\u001b[0;32m      4\u001b[0m \u001b[38;5;28;01mwhile\u001b[39;00m \u001b[38;5;28;01mTrue\u001b[39;00m:\n\u001b[1;32m----> 5\u001b[0m     ret, frame \u001b[38;5;241m=\u001b[39m \u001b[43mcap\u001b[49m\u001b[38;5;241;43m.\u001b[39;49m\u001b[43mread\u001b[49m\u001b[43m(\u001b[49m\u001b[43m)\u001b[49m\n\u001b[0;32m      6\u001b[0m     \u001b[38;5;28;01mif\u001b[39;00m ret \u001b[38;5;241m==\u001b[39m \u001b[38;5;28;01mTrue\u001b[39;00m:\n\u001b[0;32m      7\u001b[0m         \u001b[38;5;66;03m# display the resulting frame\u001b[39;00m\n\u001b[0;32m      8\u001b[0m         cv2\u001b[38;5;241m.\u001b[39mimshow(\u001b[38;5;124m'\u001b[39m\u001b[38;5;124mCamera\u001b[39m\u001b[38;5;124m'\u001b[39m, frame)\n",
      "\u001b[1;31mKeyboardInterrupt\u001b[0m: "
     ]
    }
   ],
   "source": [
    "cap = cv2.VideoCapture(0) # here zero means standard camera or u can say default camera of you r system\n",
    "\n",
    "# read until the camera is stopped\n",
    "while True:\n",
    "    ret, frame = cap.read()\n",
    "    if ret == True:\n",
    "        # display the resulting frame\n",
    "        cv2.imshow('Camera', frame)\n",
    "        if cv2.waitKey(7) == ord('q'):\n",
    "            break\n",
    "\n",
    "cv2.distroyAllWindows()"
   ]
  },
  {
   "cell_type": "code",
   "execution_count": null,
   "id": "e4d91ee0-cd61-41bf-884a-2c86447147d4",
   "metadata": {},
   "outputs": [],
   "source": []
  }
 ],
 "metadata": {
  "kernelspec": {
   "display_name": "Python 3 (ipykernel)",
   "language": "python",
   "name": "python3"
  },
  "language_info": {
   "codemirror_mode": {
    "name": "ipython",
    "version": 3
   },
   "file_extension": ".py",
   "mimetype": "text/x-python",
   "name": "python",
   "nbconvert_exporter": "python",
   "pygments_lexer": "ipython3",
   "version": "3.12.3"
  }
 },
 "nbformat": 4,
 "nbformat_minor": 5
}
